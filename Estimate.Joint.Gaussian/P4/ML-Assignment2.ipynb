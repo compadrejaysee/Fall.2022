{
 "cells": [
  {
   "cell_type": "markdown",
   "id": "7d0d633c",
   "metadata": {},
   "source": [
    "# Joint Gaussian Assignment"
   ]
  },
  {
   "cell_type": "code",
   "execution_count": 1,
   "id": "71b983db",
   "metadata": {},
   "outputs": [],
   "source": [
    "import pandas as pd\n",
    "import numpy as np\n",
    "import matplotlib.pyplot as plt\n",
    "import seaborn as sns\n",
    "from sklearn import datasets\n",
    "from sklearn.model_selection import train_test_split\n",
    "from sklearn.preprocessing import StandardScaler\n",
    "from sklearn.preprocessing import OneHotEncoder\n",
    "from sklearn.linear_model import LinearRegression\n",
    "from sklearn.linear_model import Ridge\n",
    "from sklearn.linear_model import Lasso\n",
    "from sklearn.linear_model import ElasticNet\n",
    "from sklearn.metrics import mean_squared_error, r2_score\n",
    "import scipy.stats as stats\n",
    "from scipy.stats import skew\n",
    "from scipy.stats import shapiro\n",
    "from sklearn.pipeline import Pipeline\n",
    "from sklearn.decomposition import PCA\n",
    "from scipy.optimize import curve_fit\n",
    "from scipy import asarray as ar,exp"
   ]
  },
  {
   "cell_type": "code",
   "execution_count": 2,
   "id": "5391aa9c",
   "metadata": {},
   "outputs": [],
   "source": [
    "# loading dataset\n",
    "data = pd.read_csv(r'C:\\Namra\\IBA\\Machine Learning-2\\Assignments\\formula1.csv')"
   ]
  },
  {
   "cell_type": "code",
   "execution_count": 3,
   "id": "8f74808d",
   "metadata": {
    "scrolled": true
   },
   "outputs": [
    {
     "data": {
      "text/html": [
       "<div>\n",
       "<style scoped>\n",
       "    .dataframe tbody tr th:only-of-type {\n",
       "        vertical-align: middle;\n",
       "    }\n",
       "\n",
       "    .dataframe tbody tr th {\n",
       "        vertical-align: top;\n",
       "    }\n",
       "\n",
       "    .dataframe thead th {\n",
       "        text-align: right;\n",
       "    }\n",
       "</style>\n",
       "<table border=\"1\" class=\"dataframe\">\n",
       "  <thead>\n",
       "    <tr style=\"text-align: right;\">\n",
       "      <th></th>\n",
       "      <th>Unnamed: 0</th>\n",
       "      <th>name</th>\n",
       "      <th>country</th>\n",
       "      <th>team</th>\n",
       "      <th>races</th>\n",
       "      <th>years_in_f1</th>\n",
       "      <th>championships</th>\n",
       "      <th>gp_wins</th>\n",
       "      <th>podiums</th>\n",
       "      <th>poles</th>\n",
       "      <th>dnfs</th>\n",
       "      <th>fav_circuit</th>\n",
       "      <th>avg_yearly_salary</th>\n",
       "    </tr>\n",
       "  </thead>\n",
       "  <tbody>\n",
       "    <tr>\n",
       "      <th>0</th>\n",
       "      <td>0</td>\n",
       "      <td>Frank Daniels</td>\n",
       "      <td>United States</td>\n",
       "      <td>Mercedes</td>\n",
       "      <td>67</td>\n",
       "      <td>4</td>\n",
       "      <td>5</td>\n",
       "      <td>56</td>\n",
       "      <td>29</td>\n",
       "      <td>62</td>\n",
       "      <td>16</td>\n",
       "      <td>Albert Park</td>\n",
       "      <td>16</td>\n",
       "    </tr>\n",
       "    <tr>\n",
       "      <th>1</th>\n",
       "      <td>1</td>\n",
       "      <td>Pierangelo Franceschi</td>\n",
       "      <td>Italy</td>\n",
       "      <td>Aston Martin</td>\n",
       "      <td>218</td>\n",
       "      <td>10</td>\n",
       "      <td>3</td>\n",
       "      <td>75</td>\n",
       "      <td>43</td>\n",
       "      <td>55</td>\n",
       "      <td>9</td>\n",
       "      <td>Circuit Zandvoort</td>\n",
       "      <td>17</td>\n",
       "    </tr>\n",
       "    <tr>\n",
       "      <th>2</th>\n",
       "      <td>2</td>\n",
       "      <td>Frederick Gamble</td>\n",
       "      <td>United States</td>\n",
       "      <td>Ferrari</td>\n",
       "      <td>167</td>\n",
       "      <td>8</td>\n",
       "      <td>3</td>\n",
       "      <td>56</td>\n",
       "      <td>52</td>\n",
       "      <td>72</td>\n",
       "      <td>11</td>\n",
       "      <td>Imola</td>\n",
       "      <td>14</td>\n",
       "    </tr>\n",
       "    <tr>\n",
       "      <th>3</th>\n",
       "      <td>3</td>\n",
       "      <td>Tristan Rousseau-Grondin</td>\n",
       "      <td>France</td>\n",
       "      <td>AlphaTauri</td>\n",
       "      <td>251</td>\n",
       "      <td>12</td>\n",
       "      <td>4</td>\n",
       "      <td>68</td>\n",
       "      <td>37</td>\n",
       "      <td>70</td>\n",
       "      <td>16</td>\n",
       "      <td>Circuit of The Americas</td>\n",
       "      <td>14</td>\n",
       "    </tr>\n",
       "    <tr>\n",
       "      <th>4</th>\n",
       "      <td>4</td>\n",
       "      <td>Horacio Alemany</td>\n",
       "      <td>Spain</td>\n",
       "      <td>Aston Martin</td>\n",
       "      <td>185</td>\n",
       "      <td>9</td>\n",
       "      <td>1</td>\n",
       "      <td>73</td>\n",
       "      <td>37</td>\n",
       "      <td>66</td>\n",
       "      <td>11</td>\n",
       "      <td>Jeddah Corniche Circuit</td>\n",
       "      <td>14</td>\n",
       "    </tr>\n",
       "    <tr>\n",
       "      <th>...</th>\n",
       "      <td>...</td>\n",
       "      <td>...</td>\n",
       "      <td>...</td>\n",
       "      <td>...</td>\n",
       "      <td>...</td>\n",
       "      <td>...</td>\n",
       "      <td>...</td>\n",
       "      <td>...</td>\n",
       "      <td>...</td>\n",
       "      <td>...</td>\n",
       "      <td>...</td>\n",
       "      <td>...</td>\n",
       "      <td>...</td>\n",
       "    </tr>\n",
       "    <tr>\n",
       "      <th>745</th>\n",
       "      <td>745</td>\n",
       "      <td>Ottone Cuda</td>\n",
       "      <td>Italy</td>\n",
       "      <td>AlphaTauri</td>\n",
       "      <td>193</td>\n",
       "      <td>9</td>\n",
       "      <td>1</td>\n",
       "      <td>84</td>\n",
       "      <td>24</td>\n",
       "      <td>63</td>\n",
       "      <td>15</td>\n",
       "      <td>Red Bull Ring</td>\n",
       "      <td>10</td>\n",
       "    </tr>\n",
       "    <tr>\n",
       "      <th>746</th>\n",
       "      <td>746</td>\n",
       "      <td>Leonard Murphy-Wells</td>\n",
       "      <td>Great Britain</td>\n",
       "      <td>Ferrari</td>\n",
       "      <td>133</td>\n",
       "      <td>7</td>\n",
       "      <td>5</td>\n",
       "      <td>70</td>\n",
       "      <td>56</td>\n",
       "      <td>76</td>\n",
       "      <td>12</td>\n",
       "      <td>Suzuka Circuit</td>\n",
       "      <td>16</td>\n",
       "    </tr>\n",
       "    <tr>\n",
       "      <th>747</th>\n",
       "      <td>747</td>\n",
       "      <td>Veerle Vos</td>\n",
       "      <td>Netherlands</td>\n",
       "      <td>Ferrari</td>\n",
       "      <td>206</td>\n",
       "      <td>10</td>\n",
       "      <td>2</td>\n",
       "      <td>60</td>\n",
       "      <td>29</td>\n",
       "      <td>58</td>\n",
       "      <td>9</td>\n",
       "      <td>Hungaroring</td>\n",
       "      <td>11</td>\n",
       "    </tr>\n",
       "    <tr>\n",
       "      <th>748</th>\n",
       "      <td>748</td>\n",
       "      <td>Pamela White</td>\n",
       "      <td>Great Britain</td>\n",
       "      <td>Haas</td>\n",
       "      <td>166</td>\n",
       "      <td>8</td>\n",
       "      <td>5</td>\n",
       "      <td>52</td>\n",
       "      <td>38</td>\n",
       "      <td>69</td>\n",
       "      <td>13</td>\n",
       "      <td>Circuit Zandvoort</td>\n",
       "      <td>11</td>\n",
       "    </tr>\n",
       "    <tr>\n",
       "      <th>749</th>\n",
       "      <td>749</td>\n",
       "      <td>Mika Jokinen</td>\n",
       "      <td>Finland</td>\n",
       "      <td>Alfa Romeo</td>\n",
       "      <td>104</td>\n",
       "      <td>5</td>\n",
       "      <td>5</td>\n",
       "      <td>57</td>\n",
       "      <td>35</td>\n",
       "      <td>59</td>\n",
       "      <td>12</td>\n",
       "      <td>Suzuka Circuit</td>\n",
       "      <td>13</td>\n",
       "    </tr>\n",
       "  </tbody>\n",
       "</table>\n",
       "<p>750 rows × 13 columns</p>\n",
       "</div>"
      ],
      "text/plain": [
       "     Unnamed: 0                      name        country          team  races  \\\n",
       "0             0             Frank Daniels  United States      Mercedes     67   \n",
       "1             1     Pierangelo Franceschi          Italy  Aston Martin    218   \n",
       "2             2          Frederick Gamble  United States       Ferrari    167   \n",
       "3             3  Tristan Rousseau-Grondin         France    AlphaTauri    251   \n",
       "4             4           Horacio Alemany          Spain  Aston Martin    185   \n",
       "..          ...                       ...            ...           ...    ...   \n",
       "745         745               Ottone Cuda          Italy    AlphaTauri    193   \n",
       "746         746      Leonard Murphy-Wells  Great Britain       Ferrari    133   \n",
       "747         747                Veerle Vos    Netherlands       Ferrari    206   \n",
       "748         748              Pamela White  Great Britain          Haas    166   \n",
       "749         749              Mika Jokinen        Finland    Alfa Romeo    104   \n",
       "\n",
       "     years_in_f1  championships  gp_wins  podiums  poles  dnfs  \\\n",
       "0              4              5       56       29     62    16   \n",
       "1             10              3       75       43     55     9   \n",
       "2              8              3       56       52     72    11   \n",
       "3             12              4       68       37     70    16   \n",
       "4              9              1       73       37     66    11   \n",
       "..           ...            ...      ...      ...    ...   ...   \n",
       "745            9              1       84       24     63    15   \n",
       "746            7              5       70       56     76    12   \n",
       "747           10              2       60       29     58     9   \n",
       "748            8              5       52       38     69    13   \n",
       "749            5              5       57       35     59    12   \n",
       "\n",
       "                 fav_circuit  avg_yearly_salary  \n",
       "0                Albert Park                 16  \n",
       "1          Circuit Zandvoort                 17  \n",
       "2                      Imola                 14  \n",
       "3    Circuit of The Americas                 14  \n",
       "4    Jeddah Corniche Circuit                 14  \n",
       "..                       ...                ...  \n",
       "745            Red Bull Ring                 10  \n",
       "746           Suzuka Circuit                 16  \n",
       "747              Hungaroring                 11  \n",
       "748        Circuit Zandvoort                 11  \n",
       "749           Suzuka Circuit                 13  \n",
       "\n",
       "[750 rows x 13 columns]"
      ]
     },
     "execution_count": 3,
     "metadata": {},
     "output_type": "execute_result"
    }
   ],
   "source": [
    "data"
   ]
  },
  {
   "cell_type": "markdown",
   "id": "8abc253f",
   "metadata": {},
   "source": [
    "### Taking only continuous columns"
   ]
  },
  {
   "cell_type": "code",
   "execution_count": 4,
   "id": "41e38ffa",
   "metadata": {
    "scrolled": true
   },
   "outputs": [
    {
     "data": {
      "text/html": [
       "<div>\n",
       "<style scoped>\n",
       "    .dataframe tbody tr th:only-of-type {\n",
       "        vertical-align: middle;\n",
       "    }\n",
       "\n",
       "    .dataframe tbody tr th {\n",
       "        vertical-align: top;\n",
       "    }\n",
       "\n",
       "    .dataframe thead th {\n",
       "        text-align: right;\n",
       "    }\n",
       "</style>\n",
       "<table border=\"1\" class=\"dataframe\">\n",
       "  <thead>\n",
       "    <tr style=\"text-align: right;\">\n",
       "      <th></th>\n",
       "      <th>races</th>\n",
       "      <th>years_in_f1</th>\n",
       "      <th>championships</th>\n",
       "      <th>gp_wins</th>\n",
       "      <th>podiums</th>\n",
       "      <th>poles</th>\n",
       "      <th>dnfs</th>\n",
       "      <th>avg_yearly_salary</th>\n",
       "    </tr>\n",
       "  </thead>\n",
       "  <tbody>\n",
       "    <tr>\n",
       "      <th>0</th>\n",
       "      <td>67</td>\n",
       "      <td>4</td>\n",
       "      <td>5</td>\n",
       "      <td>56</td>\n",
       "      <td>29</td>\n",
       "      <td>62</td>\n",
       "      <td>16</td>\n",
       "      <td>16</td>\n",
       "    </tr>\n",
       "    <tr>\n",
       "      <th>1</th>\n",
       "      <td>218</td>\n",
       "      <td>10</td>\n",
       "      <td>3</td>\n",
       "      <td>75</td>\n",
       "      <td>43</td>\n",
       "      <td>55</td>\n",
       "      <td>9</td>\n",
       "      <td>17</td>\n",
       "    </tr>\n",
       "    <tr>\n",
       "      <th>2</th>\n",
       "      <td>167</td>\n",
       "      <td>8</td>\n",
       "      <td>3</td>\n",
       "      <td>56</td>\n",
       "      <td>52</td>\n",
       "      <td>72</td>\n",
       "      <td>11</td>\n",
       "      <td>14</td>\n",
       "    </tr>\n",
       "    <tr>\n",
       "      <th>3</th>\n",
       "      <td>251</td>\n",
       "      <td>12</td>\n",
       "      <td>4</td>\n",
       "      <td>68</td>\n",
       "      <td>37</td>\n",
       "      <td>70</td>\n",
       "      <td>16</td>\n",
       "      <td>14</td>\n",
       "    </tr>\n",
       "    <tr>\n",
       "      <th>4</th>\n",
       "      <td>185</td>\n",
       "      <td>9</td>\n",
       "      <td>1</td>\n",
       "      <td>73</td>\n",
       "      <td>37</td>\n",
       "      <td>66</td>\n",
       "      <td>11</td>\n",
       "      <td>14</td>\n",
       "    </tr>\n",
       "    <tr>\n",
       "      <th>...</th>\n",
       "      <td>...</td>\n",
       "      <td>...</td>\n",
       "      <td>...</td>\n",
       "      <td>...</td>\n",
       "      <td>...</td>\n",
       "      <td>...</td>\n",
       "      <td>...</td>\n",
       "      <td>...</td>\n",
       "    </tr>\n",
       "    <tr>\n",
       "      <th>745</th>\n",
       "      <td>193</td>\n",
       "      <td>9</td>\n",
       "      <td>1</td>\n",
       "      <td>84</td>\n",
       "      <td>24</td>\n",
       "      <td>63</td>\n",
       "      <td>15</td>\n",
       "      <td>10</td>\n",
       "    </tr>\n",
       "    <tr>\n",
       "      <th>746</th>\n",
       "      <td>133</td>\n",
       "      <td>7</td>\n",
       "      <td>5</td>\n",
       "      <td>70</td>\n",
       "      <td>56</td>\n",
       "      <td>76</td>\n",
       "      <td>12</td>\n",
       "      <td>16</td>\n",
       "    </tr>\n",
       "    <tr>\n",
       "      <th>747</th>\n",
       "      <td>206</td>\n",
       "      <td>10</td>\n",
       "      <td>2</td>\n",
       "      <td>60</td>\n",
       "      <td>29</td>\n",
       "      <td>58</td>\n",
       "      <td>9</td>\n",
       "      <td>11</td>\n",
       "    </tr>\n",
       "    <tr>\n",
       "      <th>748</th>\n",
       "      <td>166</td>\n",
       "      <td>8</td>\n",
       "      <td>5</td>\n",
       "      <td>52</td>\n",
       "      <td>38</td>\n",
       "      <td>69</td>\n",
       "      <td>13</td>\n",
       "      <td>11</td>\n",
       "    </tr>\n",
       "    <tr>\n",
       "      <th>749</th>\n",
       "      <td>104</td>\n",
       "      <td>5</td>\n",
       "      <td>5</td>\n",
       "      <td>57</td>\n",
       "      <td>35</td>\n",
       "      <td>59</td>\n",
       "      <td>12</td>\n",
       "      <td>13</td>\n",
       "    </tr>\n",
       "  </tbody>\n",
       "</table>\n",
       "<p>750 rows × 8 columns</p>\n",
       "</div>"
      ],
      "text/plain": [
       "     races  years_in_f1  championships  gp_wins  podiums  poles  dnfs  \\\n",
       "0       67            4              5       56       29     62    16   \n",
       "1      218           10              3       75       43     55     9   \n",
       "2      167            8              3       56       52     72    11   \n",
       "3      251           12              4       68       37     70    16   \n",
       "4      185            9              1       73       37     66    11   \n",
       "..     ...          ...            ...      ...      ...    ...   ...   \n",
       "745    193            9              1       84       24     63    15   \n",
       "746    133            7              5       70       56     76    12   \n",
       "747    206           10              2       60       29     58     9   \n",
       "748    166            8              5       52       38     69    13   \n",
       "749    104            5              5       57       35     59    12   \n",
       "\n",
       "     avg_yearly_salary  \n",
       "0                   16  \n",
       "1                   17  \n",
       "2                   14  \n",
       "3                   14  \n",
       "4                   14  \n",
       "..                 ...  \n",
       "745                 10  \n",
       "746                 16  \n",
       "747                 11  \n",
       "748                 11  \n",
       "749                 13  \n",
       "\n",
       "[750 rows x 8 columns]"
      ]
     },
     "execution_count": 4,
     "metadata": {},
     "output_type": "execute_result"
    }
   ],
   "source": [
    "# dropping categorical and unnamed column\n",
    "data = data[['races','years_in_f1','championships','gp_wins','podiums','poles','dnfs','avg_yearly_salary']]\n",
    "data"
   ]
  },
  {
   "cell_type": "markdown",
   "id": "857c26ef",
   "metadata": {},
   "source": [
    "## Understandind Data"
   ]
  },
  {
   "cell_type": "code",
   "execution_count": 5,
   "id": "39cee098",
   "metadata": {},
   "outputs": [
    {
     "name": "stdout",
     "output_type": "stream",
     "text": [
      "my dataset shape: (750, 8)\n",
      "<class 'pandas.core.frame.DataFrame'>\n",
      "RangeIndex: 750 entries, 0 to 749\n",
      "Data columns (total 8 columns):\n",
      " #   Column             Non-Null Count  Dtype\n",
      "---  ------             --------------  -----\n",
      " 0   races              750 non-null    int64\n",
      " 1   years_in_f1        750 non-null    int64\n",
      " 2   championships      750 non-null    int64\n",
      " 3   gp_wins            750 non-null    int64\n",
      " 4   podiums            750 non-null    int64\n",
      " 5   poles              750 non-null    int64\n",
      " 6   dnfs               750 non-null    int64\n",
      " 7   avg_yearly_salary  750 non-null    int64\n",
      "dtypes: int64(8)\n",
      "memory usage: 47.0 KB\n"
     ]
    }
   ],
   "source": [
    "# About Data\n",
    "print('my dataset shape:', data.shape)\n",
    "data.info()"
   ]
  },
  {
   "cell_type": "code",
   "execution_count": 6,
   "id": "3fc5286b",
   "metadata": {},
   "outputs": [
    {
     "data": {
      "text/html": [
       "<div>\n",
       "<style scoped>\n",
       "    .dataframe tbody tr th:only-of-type {\n",
       "        vertical-align: middle;\n",
       "    }\n",
       "\n",
       "    .dataframe tbody tr th {\n",
       "        vertical-align: top;\n",
       "    }\n",
       "\n",
       "    .dataframe thead th {\n",
       "        text-align: right;\n",
       "    }\n",
       "</style>\n",
       "<table border=\"1\" class=\"dataframe\">\n",
       "  <thead>\n",
       "    <tr style=\"text-align: right;\">\n",
       "      <th></th>\n",
       "      <th>races</th>\n",
       "      <th>years_in_f1</th>\n",
       "      <th>championships</th>\n",
       "      <th>gp_wins</th>\n",
       "      <th>podiums</th>\n",
       "      <th>poles</th>\n",
       "      <th>dnfs</th>\n",
       "      <th>avg_yearly_salary</th>\n",
       "    </tr>\n",
       "  </thead>\n",
       "  <tbody>\n",
       "    <tr>\n",
       "      <th>count</th>\n",
       "      <td>750.000000</td>\n",
       "      <td>750.000000</td>\n",
       "      <td>750.000000</td>\n",
       "      <td>750.000000</td>\n",
       "      <td>750.000000</td>\n",
       "      <td>750.000000</td>\n",
       "      <td>750.000000</td>\n",
       "      <td>750.000000</td>\n",
       "    </tr>\n",
       "    <tr>\n",
       "      <th>mean</th>\n",
       "      <td>161.058667</td>\n",
       "      <td>7.805333</td>\n",
       "      <td>3.777333</td>\n",
       "      <td>65.178667</td>\n",
       "      <td>41.150667</td>\n",
       "      <td>66.098667</td>\n",
       "      <td>12.334667</td>\n",
       "      <td>14.160000</td>\n",
       "    </tr>\n",
       "    <tr>\n",
       "      <th>std</th>\n",
       "      <td>44.513742</td>\n",
       "      <td>2.043446</td>\n",
       "      <td>1.252935</td>\n",
       "      <td>11.728576</td>\n",
       "      <td>13.314616</td>\n",
       "      <td>11.589248</td>\n",
       "      <td>2.554349</td>\n",
       "      <td>2.179771</td>\n",
       "    </tr>\n",
       "    <tr>\n",
       "      <th>min</th>\n",
       "      <td>20.000000</td>\n",
       "      <td>1.000000</td>\n",
       "      <td>0.000000</td>\n",
       "      <td>30.000000</td>\n",
       "      <td>0.000000</td>\n",
       "      <td>30.000000</td>\n",
       "      <td>5.000000</td>\n",
       "      <td>5.000000</td>\n",
       "    </tr>\n",
       "    <tr>\n",
       "      <th>25%</th>\n",
       "      <td>133.000000</td>\n",
       "      <td>7.000000</td>\n",
       "      <td>3.000000</td>\n",
       "      <td>57.000000</td>\n",
       "      <td>32.000000</td>\n",
       "      <td>58.000000</td>\n",
       "      <td>11.000000</td>\n",
       "      <td>13.000000</td>\n",
       "    </tr>\n",
       "    <tr>\n",
       "      <th>50%</th>\n",
       "      <td>161.000000</td>\n",
       "      <td>8.000000</td>\n",
       "      <td>4.000000</td>\n",
       "      <td>66.000000</td>\n",
       "      <td>42.000000</td>\n",
       "      <td>66.000000</td>\n",
       "      <td>12.000000</td>\n",
       "      <td>14.000000</td>\n",
       "    </tr>\n",
       "    <tr>\n",
       "      <th>75%</th>\n",
       "      <td>190.750000</td>\n",
       "      <td>9.000000</td>\n",
       "      <td>5.000000</td>\n",
       "      <td>73.000000</td>\n",
       "      <td>50.000000</td>\n",
       "      <td>74.000000</td>\n",
       "      <td>14.000000</td>\n",
       "      <td>16.000000</td>\n",
       "    </tr>\n",
       "    <tr>\n",
       "      <th>max</th>\n",
       "      <td>300.000000</td>\n",
       "      <td>14.000000</td>\n",
       "      <td>8.000000</td>\n",
       "      <td>100.000000</td>\n",
       "      <td>90.000000</td>\n",
       "      <td>100.000000</td>\n",
       "      <td>20.000000</td>\n",
       "      <td>20.000000</td>\n",
       "    </tr>\n",
       "  </tbody>\n",
       "</table>\n",
       "</div>"
      ],
      "text/plain": [
       "            races  years_in_f1  championships     gp_wins     podiums  \\\n",
       "count  750.000000   750.000000     750.000000  750.000000  750.000000   \n",
       "mean   161.058667     7.805333       3.777333   65.178667   41.150667   \n",
       "std     44.513742     2.043446       1.252935   11.728576   13.314616   \n",
       "min     20.000000     1.000000       0.000000   30.000000    0.000000   \n",
       "25%    133.000000     7.000000       3.000000   57.000000   32.000000   \n",
       "50%    161.000000     8.000000       4.000000   66.000000   42.000000   \n",
       "75%    190.750000     9.000000       5.000000   73.000000   50.000000   \n",
       "max    300.000000    14.000000       8.000000  100.000000   90.000000   \n",
       "\n",
       "            poles        dnfs  avg_yearly_salary  \n",
       "count  750.000000  750.000000         750.000000  \n",
       "mean    66.098667   12.334667          14.160000  \n",
       "std     11.589248    2.554349           2.179771  \n",
       "min     30.000000    5.000000           5.000000  \n",
       "25%     58.000000   11.000000          13.000000  \n",
       "50%     66.000000   12.000000          14.000000  \n",
       "75%     74.000000   14.000000          16.000000  \n",
       "max    100.000000   20.000000          20.000000  "
      ]
     },
     "execution_count": 6,
     "metadata": {},
     "output_type": "execute_result"
    }
   ],
   "source": [
    "data.describe()"
   ]
  },
  {
   "cell_type": "markdown",
   "id": "65fd312a",
   "metadata": {},
   "source": [
    "### Data Preparation for running regression"
   ]
  },
  {
   "cell_type": "code",
   "execution_count": 10,
   "id": "3f764bfd",
   "metadata": {},
   "outputs": [],
   "source": [
    "# running regression on data\n",
    "\n",
    "# target split\n",
    "X = data.drop(['avg_yearly_salary'], axis=1)\n",
    "y = data[['avg_yearly_salary']]\n",
    "\n",
    "# train-test split\n",
    "X_train, X_test, y_train, y_test = train_test_split(X, y, test_size=0.3)"
   ]
  },
  {
   "cell_type": "markdown",
   "id": "316ff7cc",
   "metadata": {},
   "source": [
    "### Pipeline for regressors"
   ]
  },
  {
   "cell_type": "code",
   "execution_count": 11,
   "id": "da72924e",
   "metadata": {},
   "outputs": [],
   "source": [
    "# creating pipeline for regressors\n",
    "pipeline_lr = Pipeline([('pca1', PCA(n_components=2)),\n",
    "                       ('lrclassifier', LinearRegression())])\n",
    "pipeline_rg = Pipeline([('pca2', PCA(n_components=2)),\n",
    "                       ('rgclassifier', Ridge(alpha=0.9))])\n",
    "pipeline_ls = Pipeline([('pca3', PCA(n_components=2)),\n",
    "                       ('lsclassifier', Lasso(alpha=0.7))])\n",
    "pipeline_el = Pipeline([('pca4', PCA(n_components=2)),\n",
    "                       ('elclassifier', ElasticNet(alpha=0.8, l1_ratio=0.5))])"
   ]
  },
  {
   "cell_type": "code",
   "execution_count": 12,
   "id": "eb198c21",
   "metadata": {},
   "outputs": [],
   "source": [
    "pipelines = [pipeline_lr, pipeline_rg, pipeline_ls, pipeline_el]\n",
    "best_accuracy = 0.0\n",
    "best_classifier = 0\n",
    "best_pipeline = \"\""
   ]
  },
  {
   "cell_type": "markdown",
   "id": "3ff783ac",
   "metadata": {},
   "source": [
    "### Regression on dataset with continuous columns only "
   ]
  },
  {
   "cell_type": "code",
   "execution_count": 13,
   "id": "5731f084",
   "metadata": {
    "tags": []
   },
   "outputs": [
    {
     "name": "stdout",
     "output_type": "stream",
     "text": [
      "Linear Regression Test Accuracy: 0.11404626535031914\n",
      "Ridge Regression Test Accuracy: 0.11404637375978466\n",
      "Lasso Regression Test Accuracy: 0.11486775523145476\n",
      "Elastic Net Regression Test Accuracy: 0.11470748173767498\n"
     ]
    }
   ],
   "source": [
    "# Dictionary of pipelines and classifier types for ease of reference\n",
    "pipe_dict = {0: 'Linear Regression', 1: 'Ridge Regression', 2: 'Lasso Regression', 3: 'Elastic Net Regression'}\n",
    "\n",
    "# Fit the pipelines\n",
    "for pipe in pipelines:\n",
    "    pipe.fit(X_train, y_train)\n",
    "\n",
    "for i,model in enumerate(pipelines):\n",
    "    print('{} Test Accuracy: {}'.format(pipe_dict[i], model.score(X_test, y_test)))"
   ]
  },
  {
   "cell_type": "code",
   "execution_count": 14,
   "id": "e3bd7249",
   "metadata": {},
   "outputs": [
    {
     "name": "stdout",
     "output_type": "stream",
     "text": [
      "Classifier with best accuracy: Lasso Regression\n"
     ]
    }
   ],
   "source": [
    "for i,model in enumerate(pipelines):\n",
    "    if model.score(X_test,y_test)>best_accuracy:\n",
    "        best_accuracy = model.score(X_test,y_test)\n",
    "        best_pipeline = model\n",
    "        best_classifier = i\n",
    "print('Classifier with best accuracy: {}'.format(pipe_dict[best_classifier]))"
   ]
  },
  {
   "cell_type": "markdown",
   "id": "0ceff24b",
   "metadata": {},
   "source": [
    "## Plotting histplots of numerical cols and noting skewness"
   ]
  },
  {
   "cell_type": "code",
   "execution_count": 15,
   "id": "9f2d42d4",
   "metadata": {
    "scrolled": true
   },
   "outputs": [
    {
     "name": "stdout",
     "output_type": "stream",
     "text": [
      "races\n",
      "0.05733713918460377\n"
     ]
    },
    {
     "data": {
      "image/png": "[encoded data removed]",
      "text/plain": [
       "<Figure size 432x288 with 1 Axes>"
      ]
     },
     "metadata": {
      "needs_background": "light"
     },
     "output_type": "display_data"
    },
    {
     "name": "stdout",
     "output_type": "stream",
     "text": [
      "years_in_f1\n",
      "0.024431514542253924\n"
     ]
    },
    {
     "data": {
      "image/png": "[encoded data removed]",
      "text/plain": [
       "<Figure size 432x288 with 1 Axes>"
      ]
     },
     "metadata": {
      "needs_background": "light"
     },
     "output_type": "display_data"
    },
    {
     "name": "stdout",
     "output_type": "stream",
     "text": [
      "championships\n",
      "-0.11633717141440936\n"
     ]
    },
    {
     "data": {
      "image/png": "[encoded data removed]",
      "text/plain": [
       "<Figure size 432x288 with 1 Axes>"
      ]
     },
     "metadata": {
      "needs_background": "light"
     },
     "output_type": "display_data"
    },
    {
     "name": "stdout",
     "output_type": "stream",
     "text": [
      "gp_wins\n",
      "-0.0763087413643364\n"
     ]
    },
    {
     "data": {
      "image/png": "[encoded data removed]",
      "text/plain": [
       "<Figure size 432x288 with 1 Axes>"
      ]
     },
     "metadata": {
      "needs_background": "light"
     },
     "output_type": "display_data"
    },
    {
     "name": "stdout",
     "output_type": "stream",
     "text": [
      "podiums\n",
      "-0.0021921558607554607\n"
     ]
    },
    {
     "data": {
      "image/png": "[encoded data removed]",
      "text/plain": [
       "<Figure size 432x288 with 1 Axes>"
      ]
     },
     "metadata": {
      "needs_background": "light"
     },
     "output_type": "display_data"
    },
    {
     "name": "stdout",
     "output_type": "stream",
     "text": [
      "poles\n",
      "-0.04570301585984446\n"
     ]
    },
    {
     "data": {
      "image/png": "[encoded data removed]",
      "text/plain": [
       "<Figure size 432x288 with 1 Axes>"
      ]
     },
     "metadata": {
      "needs_background": "light"
     },
     "output_type": "display_data"
    },
    {
     "name": "stdout",
     "output_type": "stream",
     "text": [
      "dnfs\n",
      "-0.022898939830373673\n"
     ]
    },
    {
     "data": {
      "image/png": "[encoded data removed]",
      "text/plain": [
       "<Figure size 432x288 with 1 Axes>"
      ]
     },
     "metadata": {
      "needs_background": "light"
     },
     "output_type": "display_data"
    },
    {
     "name": "stdout",
     "output_type": "stream",
     "text": [
      "avg_yearly_salary\n",
      "-0.24087316864620195\n"
     ]
    },
    {
     "data": {
      "image/png": "[encoded data removed]",
      "text/plain": [
       "<Figure size 432x288 with 1 Axes>"
      ]
     },
     "metadata": {
      "needs_background": "light"
     },
     "output_type": "display_data"
    }
   ],
   "source": [
    "# plotting a histogram\n",
    "for col in data:\n",
    "    print(col)\n",
    "    print(skew(data[col]))\n",
    "\n",
    "    ax = sns.histplot(data[col], kde=True)\n",
    "    plt.show()"
   ]
  },
  {
   "cell_type": "markdown",
   "id": "aebed587",
   "metadata": {},
   "source": [
    "### Above output shows columns with skewness values. \n",
    "####   1. races, years_in_f1, gp_wins, podiums, poles, dnfs, have very low skewness. \n",
    "####   2. This means we can assume them to be following gaussian distribution.\n",
    "####   3. Target variable also has very low skewness. \n",
    "####   4. We will further look at shapiro-wilk test to check if these columns are normally distributed."
   ]
  },
  {
   "cell_type": "markdown",
   "id": "6ef5e241",
   "metadata": {},
   "source": [
    "### Columns having pval>0.05 are normally distributed in shapiro test"
   ]
  },
  {
   "cell_type": "code",
   "execution_count": 16,
   "id": "2b665d64",
   "metadata": {},
   "outputs": [
    {
     "name": "stdout",
     "output_type": "stream",
     "text": [
      "races : ShapiroResult(statistic=0.9982183575630188, pvalue=0.638690710067749)\n",
      "years_in_f1 : ShapiroResult(statistic=0.9785652756690979, pvalue=4.974123335443892e-09)\n",
      "championships : ShapiroResult(statistic=0.9449057579040527, pvalue=4.4349504270734333e-16)\n",
      "gp_wins : ShapiroResult(statistic=0.9975486397743225, pvalue=0.3351175785064697)\n",
      "podiums : ShapiroResult(statistic=0.9985681772232056, pvalue=0.8132235407829285)\n",
      "poles : ShapiroResult(statistic=0.9977558851242065, pvalue=0.4169639050960541)\n",
      "dnfs : ShapiroResult(statistic=0.984850287437439, pvalue=5.238597964307701e-07)\n",
      "avg_yearly_salary : ShapiroResult(statistic=0.9779317378997803, pvalue=3.2592388787833215e-09)\n"
     ]
    }
   ],
   "source": [
    "# shapiro-wilk test\n",
    "for col in data:\n",
    "    print(col, ':', str(shapiro(data[col])))"
   ]
  },
  {
   "cell_type": "markdown",
   "id": "4a7da3b7",
   "metadata": {},
   "source": [
    "## Normally distributed columns considered as gdata\n",
    "#### gdata columns are noted down because they are normally distributed as per shapiro test"
   ]
  },
  {
   "cell_type": "code",
   "execution_count": 17,
   "id": "f99773cc",
   "metadata": {
    "scrolled": true
   },
   "outputs": [],
   "source": [
    "# taking columns that follow gaussian distribution only and target\n",
    "gdata = data[['races','gp_wins','podiums','poles','avg_yearly_salary']]"
   ]
  },
  {
   "cell_type": "code",
   "execution_count": 18,
   "id": "3dc37e56",
   "metadata": {},
   "outputs": [],
   "source": [
    "# separating target from data\n",
    "X1 = gdata.drop(['avg_yearly_salary'], axis=1)\n",
    "y1 = gdata[['avg_yearly_salary']]"
   ]
  },
  {
   "cell_type": "code",
   "execution_count": 19,
   "id": "98b20626",
   "metadata": {},
   "outputs": [],
   "source": [
    "# train_test split\n",
    "X1_train, X1_test, y1_train, y1_test = train_test_split(X1, y1, test_size=0.3)"
   ]
  },
  {
   "cell_type": "markdown",
   "id": "3a97d7d8",
   "metadata": {},
   "source": [
    "### Regression on normally distributed columns"
   ]
  },
  {
   "cell_type": "code",
   "execution_count": 20,
   "id": "dbcbbefd",
   "metadata": {},
   "outputs": [
    {
     "name": "stdout",
     "output_type": "stream",
     "text": [
      "Linear Regression Test Accuracy: 0.06245414418000439\n",
      "Ridge Regression Test Accuracy: 0.06245408940192332\n",
      "Lasso Regression Test Accuracy: 0.061489628077834424\n",
      "Elastic Net Regression Test Accuracy: 0.062014702092689\n"
     ]
    }
   ],
   "source": [
    "# Dictionary of pipelines and classifier types for ease of reference\n",
    "pipe_dict = {0: 'Linear Regression', 1: 'Ridge Regression', 2: 'Lasso Regression', 3: 'Elastic Net Regression'}\n",
    "\n",
    "# Fit the pipelines\n",
    "for pipe in pipelines:\n",
    "    pipe.fit(X1_train, y1_train)\n",
    "\n",
    "for i,model in enumerate(pipelines):\n",
    "    print('{} Test Accuracy: {}'.format(pipe_dict[i], model.score(X1_test, y1_test)))"
   ]
  },
  {
   "cell_type": "code",
   "execution_count": 21,
   "id": "a5897fac",
   "metadata": {},
   "outputs": [
    {
     "name": "stdout",
     "output_type": "stream",
     "text": [
      "Classifier with best accuracy: Lasso Regression\n"
     ]
    }
   ],
   "source": [
    "for i,model in enumerate(pipelines):\n",
    "    if model.score(X1_test,y1_test)>best_accuracy:\n",
    "        best_accuracy = model.score(X1_test,y1_test)\n",
    "        best_pipeline = model\n",
    "        best_classifier = i\n",
    "print('Classifier with best accuracy: {}'.format(pipe_dict[best_classifier]))"
   ]
  },
  {
   "cell_type": "markdown",
   "id": "45906a6a",
   "metadata": {},
   "source": [
    "## Preparation for generating a sample from above noramlly distributed gdata\n",
    "#### Converting dataframe without target into an array to calculate mean and covariance"
   ]
  },
  {
   "cell_type": "code",
   "execution_count": 24,
   "id": "60a68048",
   "metadata": {},
   "outputs": [],
   "source": [
    "# converting dataset into numpy array for mean and cov calculation and fitting joing gaussian curve\n",
    "df_numpy = X1.to_numpy()\n",
    "df_numpy.shape\n",
    "x_data=df_numpy\n",
    "y_data=y.to_numpy()"
   ]
  },
  {
   "cell_type": "code",
   "execution_count": 25,
   "id": "1dcfd1be",
   "metadata": {},
   "outputs": [
    {
     "data": {
      "text/plain": [
       "((4,), (4, 4))"
      ]
     },
     "execution_count": 25,
     "metadata": {},
     "output_type": "execute_result"
    }
   ],
   "source": [
    "# calculating mean and covariance of numerical dataset to generate another distribution\n",
    "mean = np.mean(df_numpy, axis=0)\n",
    "cov = np.cov(df_numpy, rowvar=False)\n",
    "mean.shape, cov.shape"
   ]
  },
  {
   "cell_type": "markdown",
   "id": "ae5b1efb",
   "metadata": {},
   "source": [
    "#### mean is a 4x1 vector and covariance is a 4x4 matrix as there are 4 attributes"
   ]
  },
  {
   "cell_type": "code",
   "execution_count": 27,
   "id": "87e2fb06",
   "metadata": {},
   "outputs": [
    {
     "name": "stdout",
     "output_type": "stream",
     "text": [
      "[161.05866667  65.17866667  41.15066667  66.09866667]\n",
      "[[ 1.98147319e+03 -1.26379991e+01 -3.86016413e+01 -8.79751847e+00]\n",
      " [-1.26379991e+01  1.37559491e+02 -1.45018603e+00 -7.06438095e+00]\n",
      " [-3.86016413e+01 -1.45018603e+00  1.77279005e+02 -2.12837027e+00]\n",
      " [-8.79751847e+00 -7.06438095e+00 -2.12837027e+00  1.34310679e+02]]\n"
     ]
    }
   ],
   "source": [
    "print(mean)\n",
    "print(cov)"
   ]
  },
  {
   "cell_type": "markdown",
   "id": "cbc71ba6",
   "metadata": {},
   "source": [
    "### Taking mean and covariance of gaussian distribution data, generating another dataset that resembles our current dataset"
   ]
  },
  {
   "cell_type": "code",
   "execution_count": 28,
   "id": "bf10efa3",
   "metadata": {},
   "outputs": [
    {
     "data": {
      "text/plain": [
       "array([[145.36648261,  50.83065068,  27.28789093,  56.7137343 ],\n",
       "       [168.46251009,  48.50464853,  67.34723358,  56.61468966],\n",
       "       [109.47418447,  71.71329901,  37.57607123,  60.77549184],\n",
       "       ...,\n",
       "       [139.61236378,  37.34329278,  39.07925071,  91.94778182],\n",
       "       [196.06303062,  71.24536106,  16.31218456,  74.51305998],\n",
       "       [ 73.53240421,  57.28893891,  51.67112601,  54.83754312]])"
      ]
     },
     "execution_count": 28,
     "metadata": {},
     "output_type": "execute_result"
    }
   ],
   "source": [
    "# generating another sample from calculated mean and covariance\n",
    "data2 = np.random.multivariate_normal(mean, cov, size=750)\n",
    "data2"
   ]
  },
  {
   "cell_type": "markdown",
   "id": "5baee51d",
   "metadata": {},
   "source": [
    "### converting sample (data2) into a dataframe for running regression"
   ]
  },
  {
   "cell_type": "code",
   "execution_count": 29,
   "id": "fae6c0d0",
   "metadata": {},
   "outputs": [
    {
     "data": {
      "text/html": [
       "<div>\n",
       "<style scoped>\n",
       "    .dataframe tbody tr th:only-of-type {\n",
       "        vertical-align: middle;\n",
       "    }\n",
       "\n",
       "    .dataframe tbody tr th {\n",
       "        vertical-align: top;\n",
       "    }\n",
       "\n",
       "    .dataframe thead th {\n",
       "        text-align: right;\n",
       "    }\n",
       "</style>\n",
       "<table border=\"1\" class=\"dataframe\">\n",
       "  <thead>\n",
       "    <tr style=\"text-align: right;\">\n",
       "      <th></th>\n",
       "      <th>0</th>\n",
       "      <th>1</th>\n",
       "      <th>2</th>\n",
       "      <th>3</th>\n",
       "    </tr>\n",
       "  </thead>\n",
       "  <tbody>\n",
       "    <tr>\n",
       "      <th>0</th>\n",
       "      <td>145.366483</td>\n",
       "      <td>50.830651</td>\n",
       "      <td>27.287891</td>\n",
       "      <td>56.713734</td>\n",
       "    </tr>\n",
       "    <tr>\n",
       "      <th>1</th>\n",
       "      <td>168.462510</td>\n",
       "      <td>48.504649</td>\n",
       "      <td>67.347234</td>\n",
       "      <td>56.614690</td>\n",
       "    </tr>\n",
       "    <tr>\n",
       "      <th>2</th>\n",
       "      <td>109.474184</td>\n",
       "      <td>71.713299</td>\n",
       "      <td>37.576071</td>\n",
       "      <td>60.775492</td>\n",
       "    </tr>\n",
       "    <tr>\n",
       "      <th>3</th>\n",
       "      <td>207.755889</td>\n",
       "      <td>55.262138</td>\n",
       "      <td>40.971404</td>\n",
       "      <td>71.381348</td>\n",
       "    </tr>\n",
       "    <tr>\n",
       "      <th>4</th>\n",
       "      <td>89.674624</td>\n",
       "      <td>63.717632</td>\n",
       "      <td>43.508383</td>\n",
       "      <td>68.805621</td>\n",
       "    </tr>\n",
       "    <tr>\n",
       "      <th>...</th>\n",
       "      <td>...</td>\n",
       "      <td>...</td>\n",
       "      <td>...</td>\n",
       "      <td>...</td>\n",
       "    </tr>\n",
       "    <tr>\n",
       "      <th>745</th>\n",
       "      <td>123.263730</td>\n",
       "      <td>86.840586</td>\n",
       "      <td>56.913962</td>\n",
       "      <td>68.366379</td>\n",
       "    </tr>\n",
       "    <tr>\n",
       "      <th>746</th>\n",
       "      <td>150.912816</td>\n",
       "      <td>86.489663</td>\n",
       "      <td>54.451208</td>\n",
       "      <td>51.195366</td>\n",
       "    </tr>\n",
       "    <tr>\n",
       "      <th>747</th>\n",
       "      <td>139.612364</td>\n",
       "      <td>37.343293</td>\n",
       "      <td>39.079251</td>\n",
       "      <td>91.947782</td>\n",
       "    </tr>\n",
       "    <tr>\n",
       "      <th>748</th>\n",
       "      <td>196.063031</td>\n",
       "      <td>71.245361</td>\n",
       "      <td>16.312185</td>\n",
       "      <td>74.513060</td>\n",
       "    </tr>\n",
       "    <tr>\n",
       "      <th>749</th>\n",
       "      <td>73.532404</td>\n",
       "      <td>57.288939</td>\n",
       "      <td>51.671126</td>\n",
       "      <td>54.837543</td>\n",
       "    </tr>\n",
       "  </tbody>\n",
       "</table>\n",
       "<p>750 rows × 4 columns</p>\n",
       "</div>"
      ],
      "text/plain": [
       "              0          1          2          3\n",
       "0    145.366483  50.830651  27.287891  56.713734\n",
       "1    168.462510  48.504649  67.347234  56.614690\n",
       "2    109.474184  71.713299  37.576071  60.775492\n",
       "3    207.755889  55.262138  40.971404  71.381348\n",
       "4     89.674624  63.717632  43.508383  68.805621\n",
       "..          ...        ...        ...        ...\n",
       "745  123.263730  86.840586  56.913962  68.366379\n",
       "746  150.912816  86.489663  54.451208  51.195366\n",
       "747  139.612364  37.343293  39.079251  91.947782\n",
       "748  196.063031  71.245361  16.312185  74.513060\n",
       "749   73.532404  57.288939  51.671126  54.837543\n",
       "\n",
       "[750 rows x 4 columns]"
      ]
     },
     "execution_count": 29,
     "metadata": {},
     "output_type": "execute_result"
    }
   ],
   "source": [
    "data2 = pd.DataFrame(data2)\n",
    "data2"
   ]
  },
  {
   "cell_type": "markdown",
   "id": "ae948cd3",
   "metadata": {},
   "source": [
    "### Regression on sample(data2)"
   ]
  },
  {
   "cell_type": "code",
   "execution_count": 30,
   "id": "8899635f",
   "metadata": {},
   "outputs": [
    {
     "name": "stdout",
     "output_type": "stream",
     "text": [
      "Linear Regression Test Accuracy: -0.0014596548351288874\n",
      "Ridge Regression Test Accuracy: -0.001459679434165917\n",
      "Lasso Regression Test Accuracy: -0.004580220274946534\n",
      "Elastic Net Regression Test Accuracy: -0.003518396046212402\n"
     ]
    }
   ],
   "source": [
    "# X and target split\n",
    "X2 = data2\n",
    "y2 = data[['avg_yearly_salary']]\n",
    "\n",
    "# train-test split \n",
    "X2_train, X2_test, y2_train, y2_test = train_test_split(X2, y2, test_size=0.3)\n",
    "\n",
    "# Dictionary of pipelines and classifier types for ease of reference\n",
    "pipe_dict = {0: 'Linear Regression', 1: 'Ridge Regression', 2: 'Lasso Regression', 3: 'Elastic Net Regression'}\n",
    "\n",
    "# Fit the pipelines\n",
    "for pipe in pipelines:\n",
    "    pipe.fit(X2_train, y2_train)\n",
    "\n",
    "for i,model in enumerate(pipelines):\n",
    "    print('{} Test Accuracy: {}'.format(pipe_dict[i], model.score(X2_test, y2_test)))"
   ]
  },
  {
   "cell_type": "code",
   "execution_count": 31,
   "id": "f1038fc5",
   "metadata": {
    "scrolled": true
   },
   "outputs": [
    {
     "name": "stdout",
     "output_type": "stream",
     "text": [
      "Classifier with best accuracy: Lasso Regression\n"
     ]
    }
   ],
   "source": [
    "for i,model in enumerate(pipelines):\n",
    "    if model.score(X2_test,y2_test)>best_accuracy:\n",
    "        best_accuracy = model.score(X2_test,y2_test)\n",
    "        best_pipeline = model\n",
    "        best_classifier = i\n",
    "print('Classifier with best accuracy: {}'.format(pipe_dict[best_classifier]))"
   ]
  },
  {
   "cell_type": "markdown",
   "id": "13a940a6",
   "metadata": {},
   "source": [
    "### In the dataset with all continuous columns, I am dropping the normally distributed columns and adding ones from sample data, i.e. data2"
   ]
  },
  {
   "cell_type": "code",
   "execution_count": 32,
   "id": "6be1003f",
   "metadata": {},
   "outputs": [],
   "source": [
    "# dropping normally distributed cols from original and substituting cols from sample into original\n",
    "data3 = data.drop(gdata.columns, axis=1)\n",
    "data3['0'] = data2[0]\n",
    "data3['1'] = data2[1]\n",
    "data3['2'] = data2[2]\n",
    "data3['3'] = data2[3]\n",
    "data3['target'] = data['avg_yearly_salary']"
   ]
  },
  {
   "cell_type": "code",
   "execution_count": 33,
   "id": "92cca74f",
   "metadata": {},
   "outputs": [
    {
     "data": {
      "text/html": [
       "<div>\n",
       "<style scoped>\n",
       "    .dataframe tbody tr th:only-of-type {\n",
       "        vertical-align: middle;\n",
       "    }\n",
       "\n",
       "    .dataframe tbody tr th {\n",
       "        vertical-align: top;\n",
       "    }\n",
       "\n",
       "    .dataframe thead th {\n",
       "        text-align: right;\n",
       "    }\n",
       "</style>\n",
       "<table border=\"1\" class=\"dataframe\">\n",
       "  <thead>\n",
       "    <tr style=\"text-align: right;\">\n",
       "      <th></th>\n",
       "      <th>years_in_f1</th>\n",
       "      <th>championships</th>\n",
       "      <th>dnfs</th>\n",
       "      <th>0</th>\n",
       "      <th>1</th>\n",
       "      <th>2</th>\n",
       "      <th>3</th>\n",
       "      <th>target</th>\n",
       "    </tr>\n",
       "  </thead>\n",
       "  <tbody>\n",
       "    <tr>\n",
       "      <th>0</th>\n",
       "      <td>4</td>\n",
       "      <td>5</td>\n",
       "      <td>16</td>\n",
       "      <td>145.366483</td>\n",
       "      <td>50.830651</td>\n",
       "      <td>27.287891</td>\n",
       "      <td>56.713734</td>\n",
       "      <td>16</td>\n",
       "    </tr>\n",
       "    <tr>\n",
       "      <th>1</th>\n",
       "      <td>10</td>\n",
       "      <td>3</td>\n",
       "      <td>9</td>\n",
       "      <td>168.462510</td>\n",
       "      <td>48.504649</td>\n",
       "      <td>67.347234</td>\n",
       "      <td>56.614690</td>\n",
       "      <td>17</td>\n",
       "    </tr>\n",
       "    <tr>\n",
       "      <th>2</th>\n",
       "      <td>8</td>\n",
       "      <td>3</td>\n",
       "      <td>11</td>\n",
       "      <td>109.474184</td>\n",
       "      <td>71.713299</td>\n",
       "      <td>37.576071</td>\n",
       "      <td>60.775492</td>\n",
       "      <td>14</td>\n",
       "    </tr>\n",
       "    <tr>\n",
       "      <th>3</th>\n",
       "      <td>12</td>\n",
       "      <td>4</td>\n",
       "      <td>16</td>\n",
       "      <td>207.755889</td>\n",
       "      <td>55.262138</td>\n",
       "      <td>40.971404</td>\n",
       "      <td>71.381348</td>\n",
       "      <td>14</td>\n",
       "    </tr>\n",
       "    <tr>\n",
       "      <th>4</th>\n",
       "      <td>9</td>\n",
       "      <td>1</td>\n",
       "      <td>11</td>\n",
       "      <td>89.674624</td>\n",
       "      <td>63.717632</td>\n",
       "      <td>43.508383</td>\n",
       "      <td>68.805621</td>\n",
       "      <td>14</td>\n",
       "    </tr>\n",
       "    <tr>\n",
       "      <th>...</th>\n",
       "      <td>...</td>\n",
       "      <td>...</td>\n",
       "      <td>...</td>\n",
       "      <td>...</td>\n",
       "      <td>...</td>\n",
       "      <td>...</td>\n",
       "      <td>...</td>\n",
       "      <td>...</td>\n",
       "    </tr>\n",
       "    <tr>\n",
       "      <th>745</th>\n",
       "      <td>9</td>\n",
       "      <td>1</td>\n",
       "      <td>15</td>\n",
       "      <td>123.263730</td>\n",
       "      <td>86.840586</td>\n",
       "      <td>56.913962</td>\n",
       "      <td>68.366379</td>\n",
       "      <td>10</td>\n",
       "    </tr>\n",
       "    <tr>\n",
       "      <th>746</th>\n",
       "      <td>7</td>\n",
       "      <td>5</td>\n",
       "      <td>12</td>\n",
       "      <td>150.912816</td>\n",
       "      <td>86.489663</td>\n",
       "      <td>54.451208</td>\n",
       "      <td>51.195366</td>\n",
       "      <td>16</td>\n",
       "    </tr>\n",
       "    <tr>\n",
       "      <th>747</th>\n",
       "      <td>10</td>\n",
       "      <td>2</td>\n",
       "      <td>9</td>\n",
       "      <td>139.612364</td>\n",
       "      <td>37.343293</td>\n",
       "      <td>39.079251</td>\n",
       "      <td>91.947782</td>\n",
       "      <td>11</td>\n",
       "    </tr>\n",
       "    <tr>\n",
       "      <th>748</th>\n",
       "      <td>8</td>\n",
       "      <td>5</td>\n",
       "      <td>13</td>\n",
       "      <td>196.063031</td>\n",
       "      <td>71.245361</td>\n",
       "      <td>16.312185</td>\n",
       "      <td>74.513060</td>\n",
       "      <td>11</td>\n",
       "    </tr>\n",
       "    <tr>\n",
       "      <th>749</th>\n",
       "      <td>5</td>\n",
       "      <td>5</td>\n",
       "      <td>12</td>\n",
       "      <td>73.532404</td>\n",
       "      <td>57.288939</td>\n",
       "      <td>51.671126</td>\n",
       "      <td>54.837543</td>\n",
       "      <td>13</td>\n",
       "    </tr>\n",
       "  </tbody>\n",
       "</table>\n",
       "<p>750 rows × 8 columns</p>\n",
       "</div>"
      ],
      "text/plain": [
       "     years_in_f1  championships  dnfs           0          1          2  \\\n",
       "0              4              5    16  145.366483  50.830651  27.287891   \n",
       "1             10              3     9  168.462510  48.504649  67.347234   \n",
       "2              8              3    11  109.474184  71.713299  37.576071   \n",
       "3             12              4    16  207.755889  55.262138  40.971404   \n",
       "4              9              1    11   89.674624  63.717632  43.508383   \n",
       "..           ...            ...   ...         ...        ...        ...   \n",
       "745            9              1    15  123.263730  86.840586  56.913962   \n",
       "746            7              5    12  150.912816  86.489663  54.451208   \n",
       "747           10              2     9  139.612364  37.343293  39.079251   \n",
       "748            8              5    13  196.063031  71.245361  16.312185   \n",
       "749            5              5    12   73.532404  57.288939  51.671126   \n",
       "\n",
       "             3  target  \n",
       "0    56.713734      16  \n",
       "1    56.614690      17  \n",
       "2    60.775492      14  \n",
       "3    71.381348      14  \n",
       "4    68.805621      14  \n",
       "..         ...     ...  \n",
       "745  68.366379      10  \n",
       "746  51.195366      16  \n",
       "747  91.947782      11  \n",
       "748  74.513060      11  \n",
       "749  54.837543      13  \n",
       "\n",
       "[750 rows x 8 columns]"
      ]
     },
     "execution_count": 33,
     "metadata": {},
     "output_type": "execute_result"
    }
   ],
   "source": [
    "data3"
   ]
  },
  {
   "cell_type": "markdown",
   "id": "5abc0d37",
   "metadata": {},
   "source": [
    "### Regression on this new dataset"
   ]
  },
  {
   "cell_type": "code",
   "execution_count": 34,
   "id": "022178cd",
   "metadata": {},
   "outputs": [
    {
     "name": "stdout",
     "output_type": "stream",
     "text": [
      "Linear Regression Test Accuracy: -0.004839481633327258\n",
      "Ridge Regression Test Accuracy: -0.004839405569240007\n",
      "Lasso Regression Test Accuracy: -0.0033643119970290236\n",
      "Elastic Net Regression Test Accuracy: -0.003836732801181686\n"
     ]
    }
   ],
   "source": [
    "# X and target split\n",
    "X3 = data3\n",
    "y3 = data3[['target']]\n",
    "\n",
    "# train-test split \n",
    "X3_train, X3_test, y3_train, y3_test = train_test_split(X3, y3, test_size=0.3)\n",
    "\n",
    "# Dictionary of pipelines and classifier types for ease of reference\n",
    "pipe_dict = {0: 'Linear Regression', 1: 'Ridge Regression', 2: 'Lasso Regression', 3: 'Elastic Net Regression'}\n",
    "\n",
    "# Fit the pipelines\n",
    "for pipe in pipelines:\n",
    "    pipe.fit(X3_train, y3_train)\n",
    "\n",
    "for i,model in enumerate(pipelines):\n",
    "    print('{} Test Accuracy: {}'.format(pipe_dict[i], model.score(X3_test, y3_test)))"
   ]
  },
  {
   "cell_type": "code",
   "execution_count": 35,
   "id": "391cd05d",
   "metadata": {},
   "outputs": [
    {
     "name": "stdout",
     "output_type": "stream",
     "text": [
      "Classifier with best accuracy: Lasso Regression\n"
     ]
    }
   ],
   "source": [
    "for i,model in enumerate(pipelines):\n",
    "    if model.score(X3_test,y3_test)>best_accuracy:\n",
    "        best_accuracy = model.score(X3_test,y3_test)\n",
    "        best_pipeline = model\n",
    "        best_classifier = i\n",
    "print('Classifier with best accuracy: {}'.format(pipe_dict[best_classifier]))"
   ]
  },
  {
   "cell_type": "code",
   "execution_count": null,
   "id": "449686f5",
   "metadata": {},
   "outputs": [],
   "source": []
  },
  {
   "cell_type": "code",
   "execution_count": null,
   "id": "14b4a94a",
   "metadata": {},
   "outputs": [],
   "source": []
  },
  {
   "cell_type": "code",
   "execution_count": null,
   "id": "941d991e",
   "metadata": {},
   "outputs": [],
   "source": []
  },
  {
   "cell_type": "code",
   "execution_count": null,
   "id": "5f9d55a5",
   "metadata": {},
   "outputs": [],
   "source": []
  },
  {
   "cell_type": "code",
   "execution_count": null,
   "id": "795ba74e",
   "metadata": {},
   "outputs": [],
   "source": []
  },
  {
   "cell_type": "code",
   "execution_count": null,
   "id": "a5c2b9c3",
   "metadata": {},
   "outputs": [],
   "source": []
  },
  {
   "cell_type": "code",
   "execution_count": null,
   "id": "c1a06209",
   "metadata": {},
   "outputs": [],
   "source": []
  },
  {
   "cell_type": "code",
   "execution_count": null,
   "id": "c9c82055",
   "metadata": {},
   "outputs": [],
   "source": []
  },
  {
   "cell_type": "code",
   "execution_count": 33,
   "id": "46449159",
   "metadata": {},
   "outputs": [],
   "source": []
  },
  {
   "cell_type": "code",
   "execution_count": 34,
   "id": "3f13097b",
   "metadata": {},
   "outputs": [],
   "source": []
  },
  {
   "cell_type": "code",
   "execution_count": null,
   "id": "966bea73",
   "metadata": {},
   "outputs": [],
   "source": []
  },
  {
   "cell_type": "code",
   "execution_count": null,
   "id": "ca5d3f3a",
   "metadata": {},
   "outputs": [],
   "source": []
  },
  {
   "cell_type": "code",
   "execution_count": null,
   "id": "0e9ead99",
   "metadata": {},
   "outputs": [],
   "source": []
  },
  {
   "cell_type": "code",
   "execution_count": null,
   "id": "5a30fb0f",
   "metadata": {},
   "outputs": [],
   "source": []
  },
  {
   "cell_type": "code",
   "execution_count": null,
   "id": "5ffc9484",
   "metadata": {},
   "outputs": [],
   "source": []
  },
  {
   "cell_type": "code",
   "execution_count": null,
   "id": "52c4fad8",
   "metadata": {
    "scrolled": true
   },
   "outputs": [],
   "source": []
  },
  {
   "cell_type": "code",
   "execution_count": null,
   "id": "776acbaa",
   "metadata": {
    "scrolled": true
   },
   "outputs": [],
   "source": []
  },
  {
   "cell_type": "code",
   "execution_count": null,
   "id": "a72b116e",
   "metadata": {},
   "outputs": [],
   "source": []
  },
  {
   "cell_type": "code",
   "execution_count": null,
   "id": "7f4d0510",
   "metadata": {},
   "outputs": [],
   "source": []
  },
  {
   "cell_type": "code",
   "execution_count": null,
   "id": "29e952b2",
   "metadata": {},
   "outputs": [],
   "source": []
  },
  {
   "cell_type": "code",
   "execution_count": null,
   "id": "cb9bbc96",
   "metadata": {},
   "outputs": [],
   "source": []
  },
  {
   "cell_type": "code",
   "execution_count": null,
   "id": "fcba9df7",
   "metadata": {},
   "outputs": [],
   "source": []
  },
  {
   "cell_type": "code",
   "execution_count": null,
   "id": "36ddc53c",
   "metadata": {},
   "outputs": [],
   "source": []
  },
  {
   "cell_type": "code",
   "execution_count": null,
   "id": "1fcaa3ee",
   "metadata": {},
   "outputs": [],
   "source": []
  },
  {
   "cell_type": "code",
   "execution_count": null,
   "id": "e1677a81",
   "metadata": {},
   "outputs": [],
   "source": []
  },
  {
   "cell_type": "code",
   "execution_count": null,
   "id": "a906b5b0",
   "metadata": {},
   "outputs": [],
   "source": []
  },
  {
   "cell_type": "code",
   "execution_count": null,
   "id": "4247567b",
   "metadata": {},
   "outputs": [],
   "source": []
  },
  {
   "cell_type": "code",
   "execution_count": null,
   "id": "e26a963a",
   "metadata": {},
   "outputs": [],
   "source": []
  },
  {
   "cell_type": "code",
   "execution_count": null,
   "id": "5c33d796",
   "metadata": {
    "scrolled": true
   },
   "outputs": [],
   "source": []
  },
  {
   "cell_type": "code",
   "execution_count": null,
   "id": "b86be415",
   "metadata": {},
   "outputs": [],
   "source": []
  },
  {
   "cell_type": "code",
   "execution_count": null,
   "id": "ee7bc362",
   "metadata": {},
   "outputs": [],
   "source": []
  },
  {
   "cell_type": "code",
   "execution_count": null,
   "id": "ff35226e",
   "metadata": {},
   "outputs": [],
   "source": []
  },
  {
   "cell_type": "code",
   "execution_count": null,
   "id": "e4eebef8",
   "metadata": {},
   "outputs": [],
   "source": []
  },
  {
   "cell_type": "code",
   "execution_count": null,
   "id": "20560947",
   "metadata": {},
   "outputs": [],
   "source": []
  },
  {
   "cell_type": "code",
   "execution_count": null,
   "id": "7f70cfc4",
   "metadata": {},
   "outputs": [],
   "source": []
  },
  {
   "cell_type": "code",
   "execution_count": null,
   "id": "6381f441",
   "metadata": {},
   "outputs": [],
   "source": []
  },
  {
   "cell_type": "code",
   "execution_count": null,
   "id": "9f6f696e",
   "metadata": {},
   "outputs": [],
   "source": []
  }
 ],
 "metadata": {
  "kernelspec": {
   "display_name": "Python 3 (ipykernel)",
   "language": "python",
   "name": "python3"
  },
  "language_info": {
   "codemirror_mode": {
    "name": "ipython",
    "version": 3
   },
   "file_extension": ".py",
   "mimetype": "text/x-python",
   "name": "python",
   "nbconvert_exporter": "python",
   "pygments_lexer": "ipython3",
   "version": "3.9.7"
  }
 },
 "nbformat": 4,
 "nbformat_minor": 5
}
